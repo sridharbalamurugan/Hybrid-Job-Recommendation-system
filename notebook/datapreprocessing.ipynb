{
 "cells": [
  {
   "cell_type": "code",
   "execution_count": 9,
   "metadata": {},
   "outputs": [
    {
     "name": "stdout",
     "output_type": "stream",
     "text": [
      "['C:\\\\Users\\\\DELL/nltk_data', 'c:\\\\Users\\\\DELL\\\\jobportalrecommendationsystem\\\\jobenv\\\\nltk_data', 'c:\\\\Users\\\\DELL\\\\jobportalrecommendationsystem\\\\jobenv\\\\share\\\\nltk_data', 'c:\\\\Users\\\\DELL\\\\jobportalrecommendationsystem\\\\jobenv\\\\lib\\\\nltk_data', 'C:\\\\Users\\\\DELL\\\\AppData\\\\Roaming\\\\nltk_data', 'C:\\\\nltk_data', 'D:\\\\nltk_data', 'E:\\\\nltk_data', 'C:\\\\Users\\\\DELL\\\\jobportalrecommendationsystem\\\\jobenv\\\\nltk_data\\\\tokenize', 'C:\\\\Users\\\\DELL\\\\jobportalrecommendationsystem\\\\jobenv\\\\nltk_data\\\\tokenize']\n"
     ]
    }
   ],
   "source": [
    "import nltk # type: ignore\n",
    "print(nltk.data.path)\n"
   ]
  },
  {
   "cell_type": "code",
   "execution_count": 6,
   "metadata": {},
   "outputs": [
    {
     "name": "stderr",
     "output_type": "stream",
     "text": [
      "[nltk_data] Downloading package punkt to C:\\Users\\DELL\\jobportalrecomm\n",
      "[nltk_data]     endationsystem\\jobenv\\nltk_data\\tokenize...\n",
      "[nltk_data]   Unzipping tokenizers\\punkt.zip.\n",
      "[nltk_data] Downloading package stopwords to\n",
      "[nltk_data]     C:\\Users\\DELL\\AppData\\Roaming\\nltk_data...\n",
      "[nltk_data]   Package stopwords is already up-to-date!\n",
      "[nltk_data] Downloading package punkt to\n",
      "[nltk_data]     C:\\Users\\DELL\\AppData\\Roaming\\nltk_data...\n",
      "[nltk_data]   Package punkt is already up-to-date!\n"
     ]
    },
    {
     "data": {
      "text/plain": [
       "True"
      ]
     },
     "execution_count": 6,
     "metadata": {},
     "output_type": "execute_result"
    }
   ],
   "source": [
    "\n",
    "import nltk # type: ignore\n",
    "nltk.data.path.append(r\"C:\\Users\\DELL\\jobportalrecommendationsystem\\jobenv\\nltk_data\\tokenize\")\n",
    "nltk.download('punkt', download_dir=r\"C:\\Users\\DELL\\jobportalrecommendationsystem\\jobenv\\nltk_data\\tokenize\")\n",
    "\n",
    "import nltk # type: ignore\n",
    "from nltk.corpus import stopwords # type: ignore\n",
    "from nltk.tokenize import word_tokenize # type: ignore\n",
    "from spacy import displacy # type: ignore\n",
    "\n",
    "# Download NLTK stopwords if you haven't already\n",
    "nltk.download('stopwords')\n",
    "nltk.download('punkt')\n"
   ]
  },
  {
   "cell_type": "code",
   "execution_count": 25,
   "metadata": {},
   "outputs": [
    {
     "name": "stdout",
     "output_type": "stream",
     "text": [
      "Tokens using spaCy: ['Looking', 'for', 'a', 'Data', 'Scientist', 'with', 'experience', 'in', 'Python', ',', 'SQL', ',', 'and', 'Machine', 'Learning', '.']\n",
      "Tokens using NLTK: ['Looking', 'for', 'a', 'Data', 'Scientist', 'with', 'experience', 'in', 'Python', ',', 'SQL', ',', 'and', 'Machine', 'Learning', '.']\n"
     ]
    }
   ],
   "source": [
    "\n",
    "# Load the spaCy model\n",
    "import spacy # type: ignore\n",
    "nlp = spacy.load(\"en_core_web_sm\")\n",
    "\n",
    "# Example job description or resume text\n",
    "text = \"Looking for a Data Scientist with experience in Python, SQL, and Machine Learning.\"\n",
    "\n",
    "# Process text using spaCy\n",
    "doc = nlp(text)\n",
    "\n",
    "# Tokenization with spaCy\n",
    "tokens_spacy = [token.text for token in doc]\n",
    "print(\"Tokens using spaCy:\", tokens_spacy)\n",
    "\n",
    "# Tokenization with NLTK\n",
    "tokens_nltk = word_tokenize(text)\n",
    "print(\"Tokens using NLTK:\", tokens_nltk)\n"
   ]
  },
  {
   "cell_type": "code",
   "execution_count": 26,
   "metadata": {},
   "outputs": [
    {
     "name": "stdout",
     "output_type": "stream",
     "text": [
      "Filtered Tokens (spaCy): ['Looking', 'Data', 'Scientist', 'experience', 'Python', ',', 'SQL', ',', 'Machine', 'Learning', '.']\n",
      "Filtered Tokens (NLTK): ['Looking', 'Data', 'Scientist', 'experience', 'Python', ',', 'SQL', ',', 'Machine', 'Learning', '.']\n"
     ]
    }
   ],
   "source": [
    "# Stopwords removal using spaCy\n",
    "filtered_tokens_spacy = [token.text for token in doc if not token.is_stop]\n",
    "print(\"Filtered Tokens (spaCy):\", filtered_tokens_spacy)\n",
    "\n",
    "# Stopwords removal using NLTK\n",
    "stop_words = set(stopwords.words('english'))\n",
    "filtered_tokens_nltk = [word for word in tokens_nltk if word.lower() not in stop_words]\n",
    "print(\"Filtered Tokens (NLTK):\", filtered_tokens_nltk)\n"
   ]
  },
  {
   "cell_type": "code",
   "execution_count": 27,
   "metadata": {},
   "outputs": [
    {
     "name": "stdout",
     "output_type": "stream",
     "text": [
      "Lemmatized Tokens (spaCy): ['look', 'for', 'a', 'Data', 'Scientist', 'with', 'experience', 'in', 'Python', ',', 'SQL', ',', 'and', 'Machine', 'Learning', '.']\n"
     ]
    }
   ],
   "source": [
    "# Lemmatization using spaCy\n",
    "lemmatized_tokens_spacy = [token.lemma_ for token in doc]\n",
    "print(\"Lemmatized Tokens (spaCy):\", lemmatized_tokens_spacy)\n"
   ]
  },
  {
   "cell_type": "code",
   "execution_count": 28,
   "metadata": {},
   "outputs": [
    {
     "name": "stdout",
     "output_type": "stream",
     "text": [
      "Named Entities: [('Python', 'GPE'), ('SQL', 'ORG'), ('Machine Learning', 'PERSON')]\n"
     ]
    }
   ],
   "source": [
    "# Extract Named Entities (NER) using spaCy\n",
    "named_entities = [(ent.text, ent.label_) for ent in doc.ents]\n",
    "print(\"Named Entities:\", named_entities)\n"
   ]
  },
  {
   "cell_type": "code",
   "execution_count": 29,
   "metadata": {},
   "outputs": [
    {
     "name": "stdout",
     "output_type": "stream",
     "text": [
      "Tokens: ['Looking', 'for', 'a', 'Data', 'Scientist', 'with', 'experience', 'in', 'Python', ',', 'SQL', ',', 'and', 'Machine', 'Learning', '.']\n",
      "Filtered Tokens: ['Looking', 'Data', 'Scientist', 'experience', 'Python', ',', 'SQL', ',', 'Machine', 'Learning', '.']\n",
      "Lemmatized Tokens: ['look', 'for', 'a', 'Data', 'Scientist', 'with', 'experience', 'in', 'Python', ',', 'SQL', ',', 'and', 'Machine', 'Learning', '.']\n",
      "Named Entities: [('Python', 'GPE'), ('SQL', 'ORG'), ('Machine Learning', 'PERSON')]\n"
     ]
    }
   ],
   "source": [
    "def preprocess_text(text):\n",
    "    # Process text using spaCy\n",
    "    doc = nlp(text)\n",
    "    \n",
    "    # Tokenization\n",
    "    tokens = [token.text for token in doc]\n",
    "    \n",
    "    # Stopword removal\n",
    "    filtered_tokens = [token.text for token in doc if not token.is_stop]\n",
    "    \n",
    "    # Lemmatization\n",
    "    lemmatized_tokens = [token.lemma_ for token in doc]\n",
    "    \n",
    "    # Named Entity Recognition (NER)\n",
    "    named_entities = [(ent.text, ent.label_) for ent in doc.ents]\n",
    "    \n",
    "    return {\n",
    "        'tokens': tokens,\n",
    "        'filtered_tokens': filtered_tokens,\n",
    "        'lemmatized_tokens': lemmatized_tokens,\n",
    "        'named_entities': named_entities\n",
    "    }\n",
    "\n",
    "# Example text (Job Description/Resume)\n",
    "text = \"Looking for a Data Scientist with experience in Python, SQL, and Machine Learning.\"\n",
    "\n",
    "# Preprocess the text\n",
    "preprocessed_data = preprocess_text(text)\n",
    "\n",
    "# Output the results\n",
    "print(\"Tokens:\", preprocessed_data['tokens'])\n",
    "print(\"Filtered Tokens:\", preprocessed_data['filtered_tokens'])\n",
    "print(\"Lemmatized Tokens:\", preprocessed_data['lemmatized_tokens'])\n",
    "print(\"Named Entities:\", preprocessed_data['named_entities'])\n"
   ]
  },
  {
   "cell_type": "code",
   "execution_count": 31,
   "metadata": {},
   "outputs": [
    {
     "data": {
      "text/html": [
       "<div>\n",
       "<style scoped>\n",
       "    .dataframe tbody tr th:only-of-type {\n",
       "        vertical-align: middle;\n",
       "    }\n",
       "\n",
       "    .dataframe tbody tr th {\n",
       "        vertical-align: top;\n",
       "    }\n",
       "\n",
       "    .dataframe thead th {\n",
       "        text-align: right;\n",
       "    }\n",
       "</style>\n",
       "<table border=\"1\" class=\"dataframe\">\n",
       "  <thead>\n",
       "    <tr style=\"text-align: right;\">\n",
       "      <th></th>\n",
       "      <th>CandidateID</th>\n",
       "      <th>Name</th>\n",
       "      <th>Age</th>\n",
       "      <th>Education</th>\n",
       "      <th>Skills</th>\n",
       "      <th>Interests</th>\n",
       "      <th>Recommended_Career</th>\n",
       "      <th>Recommendation_Score</th>\n",
       "    </tr>\n",
       "  </thead>\n",
       "  <tbody>\n",
       "    <tr>\n",
       "      <th>0</th>\n",
       "      <td>1</td>\n",
       "      <td>John Doe</td>\n",
       "      <td>28</td>\n",
       "      <td>Bachelor's</td>\n",
       "      <td>Python;Data Analysis;Machine Learning</td>\n",
       "      <td>Technology;Data Science</td>\n",
       "      <td>Data Scientist</td>\n",
       "      <td>0.95</td>\n",
       "    </tr>\n",
       "  </tbody>\n",
       "</table>\n",
       "</div>"
      ],
      "text/plain": [
       "   CandidateID      Name  Age   Education  \\\n",
       "0            1  John Doe   28  Bachelor's   \n",
       "\n",
       "                                  Skills                Interests  \\\n",
       "0  Python;Data Analysis;Machine Learning  Technology;Data Science   \n",
       "\n",
       "  Recommended_Career  Recommendation_Score  \n",
       "0     Data Scientist                  0.95  "
      ]
     },
     "execution_count": 31,
     "metadata": {},
     "output_type": "execute_result"
    }
   ],
   "source": [
    "import pandas as pd # type: ignore\n",
    "df = pd.read_csv(\"jobdetails.csv\") \n",
    "df.head(1)"
   ]
  },
  {
   "cell_type": "code",
   "execution_count": 2,
   "metadata": {},
   "outputs": [
    {
     "name": "stderr",
     "output_type": "stream",
     "text": [
      "[nltk_data] Downloading package punkt to c:\\Users\\DELL\\jobportalrecomm\n",
      "[nltk_data]     endationsystem\\jobenv\\nltk_data...\n",
      "[nltk_data]   Package punkt is already up-to-date!\n",
      "[nltk_data] Downloading package stopwords to c:\\Users\\DELL\\jobportalre\n",
      "[nltk_data]     commendationsystem\\jobenv\\nltk_data...\n",
      "[nltk_data]   Unzipping corpora\\stopwords.zip.\n"
     ]
    },
    {
     "name": "stdout",
     "output_type": "stream",
     "text": [
      "✅ Cleaned data saved to cleaned_job_data.csv\n"
     ]
    }
   ],
   "source": [
    "\n",
    "import spacy # type: ignore\n",
    "import nltk # type: ignore\n",
    "import pandas as pd # type: ignore\n",
    "from nltk.tokenize import word_tokenize # type: ignore\n",
    "from nltk.corpus import stopwords# type: ignore\n",
    "\n",
    "# Ensure required NLTK data is downloaded\n",
    "nltk.download('punkt')\n",
    "nltk.download('stopwords')\n",
    "\n",
    "# Load spaCy model\n",
    "nlp = spacy.load(\"en_core_web_sm\")\n",
    "\n",
    "# Load your original jobdetails.csv\n",
    "df = pd.read_csv(\"jobdetails.csv\")  # Replace with the correct path if needed\n",
    "\n",
    "# Function to preprocess the combined text\n",
    "def preprocess_text(text):\n",
    "    if pd.isna(text):\n",
    "        return \"\"\n",
    "\n",
    "    # Tokenize\n",
    "    tokens = word_tokenize(text)\n",
    "\n",
    "    # Remove stopwords\n",
    "    stop_words = set(stopwords.words('english'))\n",
    "    tokens = [word for word in tokens if word.lower() not in stop_words]\n",
    "\n",
    "    # Lemmatize\n",
    "    doc = nlp(\" \".join(tokens))\n",
    "    lemmatized_tokens = [token.lemma_.lower() for token in doc if token.is_alpha]\n",
    "\n",
    "    return \" \".join(lemmatized_tokens)\n",
    "\n",
    "# Combine relevant fields\n",
    "df[\"combined_text\"] = df[[\"Skills\", \"Interests\", \"Recommended_Career\"]].fillna(\"\").agg(\" \".join, axis=1)\n",
    "\n",
    "# Preprocess the combined text\n",
    "df[\"cleaned_text\"] = df[\"combined_text\"].apply(preprocess_text)\n",
    "\n",
    "# Drop duplicates and keep only the cleaned_text column\n",
    "df_cleaned = df[[\"cleaned_text\"]].drop_duplicates().reset_index(drop=True)\n",
    "\n",
    "# Save to CSV\n",
    "df_cleaned.to_csv(\"cleaned_job_data.csv\", index=False)\n",
    "\n",
    "print(\"✅ Cleaned data saved to cleaned_job_data.csv\")\n",
    "\n"
   ]
  },
  {
   "cell_type": "code",
   "execution_count": 5,
   "metadata": {},
   "outputs": [
    {
     "data": {
      "text/html": [
       "<div>\n",
       "<style scoped>\n",
       "    .dataframe tbody tr th:only-of-type {\n",
       "        vertical-align: middle;\n",
       "    }\n",
       "\n",
       "    .dataframe tbody tr th {\n",
       "        vertical-align: top;\n",
       "    }\n",
       "\n",
       "    .dataframe thead th {\n",
       "        text-align: right;\n",
       "    }\n",
       "</style>\n",
       "<table border=\"1\" class=\"dataframe\">\n",
       "  <thead>\n",
       "    <tr style=\"text-align: right;\">\n",
       "      <th></th>\n",
       "      <th>cleaned_text</th>\n",
       "    </tr>\n",
       "  </thead>\n",
       "  <tbody>\n",
       "    <tr>\n",
       "      <th>0</th>\n",
       "      <td>python data analysis machine learning technolo...</td>\n",
       "    </tr>\n",
       "  </tbody>\n",
       "</table>\n",
       "</div>"
      ],
      "text/plain": [
       "                                        cleaned_text\n",
       "0  python data analysis machine learning technolo..."
      ]
     },
     "execution_count": 5,
     "metadata": {},
     "output_type": "execute_result"
    }
   ],
   "source": [
    "df_cleaned.head(1)"
   ]
  },
  {
   "cell_type": "code",
   "execution_count": null,
   "metadata": {},
   "outputs": [],
   "source": []
  }
 ],
 "metadata": {
  "kernelspec": {
   "display_name": "Python 3",
   "language": "python",
   "name": "python3"
  },
  "language_info": {
   "codemirror_mode": {
    "name": "ipython",
    "version": 3
   },
   "file_extension": ".py",
   "mimetype": "text/x-python",
   "name": "python",
   "nbconvert_exporter": "python",
   "pygments_lexer": "ipython3",
   "version": "3.10.16"
  }
 },
 "nbformat": 4,
 "nbformat_minor": 2
}
